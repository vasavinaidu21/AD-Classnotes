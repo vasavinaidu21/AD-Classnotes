{
 "cells": [
  {
   "cell_type": "code",
   "execution_count": 1,
   "id": "f0aaf2b4-5e04-4158-abd7-d938797a2d8d",
   "metadata": {},
   "outputs": [],
   "source": [
    "import pandas as pd\n",
    "import seaborn as sns\n",
    "import matplotlib.pyplot as plt"
   ]
  },
  {
   "cell_type": "code",
   "execution_count": 3,
   "id": "87133529-5996-4da8-96af-aab7db49d132",
   "metadata": {},
   "outputs": [],
   "source": [
    "fp='C:/Users/ADMIN/Downloads/Day_14_Pharma_data.csv'\n",
    "Pharma_data=pd.read_csv(fp)"
   ]
  },
  {
   "cell_type": "code",
   "execution_count": 11,
   "id": "40dfdc79-bb52-4e4e-a5ab-af437326080d",
   "metadata": {},
   "outputs": [],
   "source": [
    "df = pd.DataFrame(Pharma_data)"
   ]
  },
  {
   "cell_type": "code",
   "execution_count": null,
   "id": "7beb2850-b0f8-4e77-9ea9-97d85f2b6b18",
   "metadata": {},
   "outputs": [],
   "source": [
    "plt.figure(figsize=(10, 6))\n",
    "sns.barplot(data=df, x=\"Product_Name\", y=\"Effectiveness\", hue=\"Region\", ci=None)\n",
    "plt.title(\"Average Effectiveness for Each Drug Across Different Regions\")\n",
    "plt.xlabel(\"Product Name\")\n",
    "plt.ylabel(\"Effectiveness\")\n",
    "plt.legend(title=\"Region\")\n",
    "plt.show()\n",
    "\n",
    "# Visualization 2: Violin plot showing the distribution of Effectiveness and Side_Effects for each product\n",
    "plt.figure("
   ]
  }
 ],
 "metadata": {
  "kernelspec": {
   "display_name": "Python [conda env:base] *",
   "language": "python",
   "name": "conda-base-py"
  },
  "language_info": {
   "codemirror_mode": {
    "name": "ipython",
    "version": 3
   },
   "file_extension": ".py",
   "mimetype": "text/x-python",
   "name": "python",
   "nbconvert_exporter": "python",
   "pygments_lexer": "ipython3",
   "version": "3.12.7"
  }
 },
 "nbformat": 4,
 "nbformat_minor": 5
}
